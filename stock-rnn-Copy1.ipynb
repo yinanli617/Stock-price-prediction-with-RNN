{
 "cells": [
  {
   "cell_type": "code",
   "execution_count": 1,
   "id": "474c28b0-0e0c-4c9e-a7ee-15d840491522",
   "metadata": {
    "tags": []
   },
   "outputs": [],
   "source": [
    "import logging\n",
    "import os\n",
    "\n",
    "import pandas as pd\n",
    "import numpy as np\n",
    "from sklearn.preprocessing import MinMaxScaler\n",
    "from sklearn.model_selection import train_test_split\n",
    "import matplotlib.pyplot as plt\n",
    "\n",
    "import torch\n",
    "from torch.utils.data import DataLoader, Dataset\n",
    "import torch.distributed as dist\n",
    "import torch.nn as nn\n",
    "import torch.nn.functional as F\n",
    "import torch.optim as optim"
   ]
  },
  {
   "cell_type": "code",
   "execution_count": 2,
   "id": "ed8537f1-2d30-406f-8a30-f03332b14a99",
   "metadata": {},
   "outputs": [],
   "source": [
    "WORLD_SIZE = int(os.environ.get(\"WORLD_SIZE\", 1))\n",
    "DATA_URL = './all_stocks_5yr.csv'\n",
    "COMPANY_NAME = 'AAPL'\n",
    "FEATURE_COLS = ['open', 'high', 'low', 'close', 'volume']\n",
    "TARGET_COL = 'close'\n",
    "LAG = 14\n",
    "EPOCHS = 300\n",
    "LR = 1e-3\n",
    "NO_CUDA = False\n",
    "SEED = 42\n",
    "LOG_PATH = ''"
   ]
  },
  {
   "cell_type": "code",
   "execution_count": 3,
   "id": "ea84be67-f4d5-4c8c-bb57-d8a99dcc60e9",
   "metadata": {},
   "outputs": [
    {
     "data": {
      "text/plain": [
       "Name\n",
       "AMD         5.601863\n",
       "HBAN       10.621372\n",
       "RF         10.935608\n",
       "AES        12.340048\n",
       "CHK        13.681326\n",
       "            ...     \n",
       "AMZN      576.880041\n",
       "AZO       619.703654\n",
       "GOOGL     682.233847\n",
       "GOOG      725.403353\n",
       "PCLN     1312.873538\n",
       "Name: close, Length: 505, dtype: float64"
      ]
     },
     "execution_count": 3,
     "metadata": {},
     "output_type": "execute_result"
    }
   ],
   "source": [
    "df = pd.read_csv(DATA_URL)\n",
    "df.groupby('Name').close.mean().sort_values()"
   ]
  },
  {
   "cell_type": "code",
   "execution_count": 4,
   "id": "b889b746-2ad3-4d4d-8aa8-b94fe374e892",
   "metadata": {},
   "outputs": [
    {
     "data": {
      "text/html": [
       "<div>\n",
       "<style scoped>\n",
       "    .dataframe tbody tr th:only-of-type {\n",
       "        vertical-align: middle;\n",
       "    }\n",
       "\n",
       "    .dataframe tbody tr th {\n",
       "        vertical-align: top;\n",
       "    }\n",
       "\n",
       "    .dataframe thead th {\n",
       "        text-align: right;\n",
       "    }\n",
       "</style>\n",
       "<table border=\"1\" class=\"dataframe\">\n",
       "  <thead>\n",
       "    <tr style=\"text-align: right;\">\n",
       "      <th></th>\n",
       "      <th>date</th>\n",
       "      <th>open</th>\n",
       "      <th>high</th>\n",
       "      <th>low</th>\n",
       "      <th>close</th>\n",
       "      <th>volume</th>\n",
       "      <th>Name</th>\n",
       "    </tr>\n",
       "  </thead>\n",
       "  <tbody>\n",
       "    <tr>\n",
       "      <th>38833</th>\n",
       "      <td>2013-02-08</td>\n",
       "      <td>2.580</td>\n",
       "      <td>2.60</td>\n",
       "      <td>2.58</td>\n",
       "      <td>2.59</td>\n",
       "      <td>5971768</td>\n",
       "      <td>AMD</td>\n",
       "    </tr>\n",
       "    <tr>\n",
       "      <th>38834</th>\n",
       "      <td>2013-02-11</td>\n",
       "      <td>2.590</td>\n",
       "      <td>2.70</td>\n",
       "      <td>2.59</td>\n",
       "      <td>2.67</td>\n",
       "      <td>22410941</td>\n",
       "      <td>AMD</td>\n",
       "    </tr>\n",
       "    <tr>\n",
       "      <th>38835</th>\n",
       "      <td>2013-02-12</td>\n",
       "      <td>2.705</td>\n",
       "      <td>2.78</td>\n",
       "      <td>2.69</td>\n",
       "      <td>2.77</td>\n",
       "      <td>13675442</td>\n",
       "      <td>AMD</td>\n",
       "    </tr>\n",
       "    <tr>\n",
       "      <th>38836</th>\n",
       "      <td>2013-02-13</td>\n",
       "      <td>2.810</td>\n",
       "      <td>2.83</td>\n",
       "      <td>2.73</td>\n",
       "      <td>2.75</td>\n",
       "      <td>11481985</td>\n",
       "      <td>AMD</td>\n",
       "    </tr>\n",
       "    <tr>\n",
       "      <th>38837</th>\n",
       "      <td>2013-02-14</td>\n",
       "      <td>2.740</td>\n",
       "      <td>2.75</td>\n",
       "      <td>2.69</td>\n",
       "      <td>2.75</td>\n",
       "      <td>13283766</td>\n",
       "      <td>AMD</td>\n",
       "    </tr>\n",
       "    <tr>\n",
       "      <th>...</th>\n",
       "      <td>...</td>\n",
       "      <td>...</td>\n",
       "      <td>...</td>\n",
       "      <td>...</td>\n",
       "      <td>...</td>\n",
       "      <td>...</td>\n",
       "      <td>...</td>\n",
       "    </tr>\n",
       "    <tr>\n",
       "      <th>40087</th>\n",
       "      <td>2018-02-01</td>\n",
       "      <td>13.620</td>\n",
       "      <td>13.84</td>\n",
       "      <td>13.21</td>\n",
       "      <td>13.25</td>\n",
       "      <td>67543333</td>\n",
       "      <td>AMD</td>\n",
       "    </tr>\n",
       "    <tr>\n",
       "      <th>40088</th>\n",
       "      <td>2018-02-02</td>\n",
       "      <td>13.050</td>\n",
       "      <td>13.06</td>\n",
       "      <td>12.43</td>\n",
       "      <td>12.45</td>\n",
       "      <td>79432558</td>\n",
       "      <td>AMD</td>\n",
       "    </tr>\n",
       "    <tr>\n",
       "      <th>40089</th>\n",
       "      <td>2018-02-05</td>\n",
       "      <td>12.050</td>\n",
       "      <td>12.18</td>\n",
       "      <td>10.93</td>\n",
       "      <td>11.57</td>\n",
       "      <td>116568862</td>\n",
       "      <td>AMD</td>\n",
       "    </tr>\n",
       "    <tr>\n",
       "      <th>40090</th>\n",
       "      <td>2018-02-06</td>\n",
       "      <td>11.040</td>\n",
       "      <td>11.74</td>\n",
       "      <td>11.00</td>\n",
       "      <td>11.65</td>\n",
       "      <td>87123202</td>\n",
       "      <td>AMD</td>\n",
       "    </tr>\n",
       "    <tr>\n",
       "      <th>40091</th>\n",
       "      <td>2018-02-07</td>\n",
       "      <td>11.700</td>\n",
       "      <td>11.90</td>\n",
       "      <td>11.53</td>\n",
       "      <td>11.60</td>\n",
       "      <td>55758364</td>\n",
       "      <td>AMD</td>\n",
       "    </tr>\n",
       "  </tbody>\n",
       "</table>\n",
       "<p>1259 rows × 7 columns</p>\n",
       "</div>"
      ],
      "text/plain": [
       "             date    open   high    low  close     volume Name\n",
       "38833  2013-02-08   2.580   2.60   2.58   2.59    5971768  AMD\n",
       "38834  2013-02-11   2.590   2.70   2.59   2.67   22410941  AMD\n",
       "38835  2013-02-12   2.705   2.78   2.69   2.77   13675442  AMD\n",
       "38836  2013-02-13   2.810   2.83   2.73   2.75   11481985  AMD\n",
       "38837  2013-02-14   2.740   2.75   2.69   2.75   13283766  AMD\n",
       "...           ...     ...    ...    ...    ...        ...  ...\n",
       "40087  2018-02-01  13.620  13.84  13.21  13.25   67543333  AMD\n",
       "40088  2018-02-02  13.050  13.06  12.43  12.45   79432558  AMD\n",
       "40089  2018-02-05  12.050  12.18  10.93  11.57  116568862  AMD\n",
       "40090  2018-02-06  11.040  11.74  11.00  11.65   87123202  AMD\n",
       "40091  2018-02-07  11.700  11.90  11.53  11.60   55758364  AMD\n",
       "\n",
       "[1259 rows x 7 columns]"
      ]
     },
     "execution_count": 4,
     "metadata": {},
     "output_type": "execute_result"
    }
   ],
   "source": [
    "df[df.Name == 'AMD']"
   ]
  },
  {
   "cell_type": "markdown",
   "id": "8a28f1f5-8339-4e43-a84a-28bdbe31cc25",
   "metadata": {
    "tags": []
   },
   "source": [
    "## Utils"
   ]
  },
  {
   "cell_type": "code",
   "execution_count": 5,
   "id": "8507ed1a-6619-453c-800d-0ec6265bb887",
   "metadata": {},
   "outputs": [],
   "source": [
    "def should_distribute():\n",
    "    return dist.is_available() and WORLD_SIZE > 1\n",
    "\n",
    "\n",
    "def is_distributed():\n",
    "    return dist.is_available() and dist.is_initialized()"
   ]
  },
  {
   "cell_type": "markdown",
   "id": "622a189d-0dc5-485f-aab3-1ca7e7b0e0d4",
   "metadata": {},
   "source": [
    "## Dataset"
   ]
  },
  {
   "cell_type": "code",
   "execution_count": 6,
   "id": "f7fddcb2-6a26-49e4-a191-4170523130b4",
   "metadata": {},
   "outputs": [],
   "source": [
    "def get_data(name, url=DATA_URL):\n",
    "    df = pd.read_csv(url)\n",
    "    df = df[df['Name'] == name]\n",
    "    df['date'] = pd.to_datetime(df['date'])\n",
    "    df = df.sort_values('date')\n",
    "    targets = df[TARGET_COL].values\n",
    "    features = df[FEATURE_COLS].values\n",
    "\n",
    "#     feature_scaler = MinMaxScaler()\n",
    "#     target_scaler = MinMaxScaler()\n",
    "#     features = feature_scaler.fit_transform(features) # Scale the data\n",
    "#     targets = target_scaler.fit_transform(targets.reshape(-1, 1)).squeeze()\n",
    "    train_size = int(0.8 * len(features))\n",
    "    X_train, X_test, y_train, y_test = features[:train_size], features[train_size:], targets[:train_size], targets[train_size:]\n",
    "    \n",
    "    feature_scaler = MinMaxScaler()\n",
    "    target_scaler = MinMaxScaler()\n",
    "    X_train = feature_scaler.fit_transform(X_train)\n",
    "    X_test = feature_scaler.transform(X_test)\n",
    "    y_train = target_scaler.fit_transform(y_train.reshape(-1, 1)).squeeze()\n",
    "    y_test = target_scaler.transform(y_test.reshape(-1, 1)).squeeze()\n",
    "    \n",
    "    return X_train, X_test, y_train, y_test, target_scaler\n",
    "\n",
    "\n",
    "def process_data(features, targets, lag):\n",
    "    X, Y = [], []\n",
    "    lag = lag\n",
    "    for i in range(len(features) - lag - 1):\n",
    "        X.append(features[i: (i + lag)])\n",
    "        Y.append(targets[(i + lag)])\n",
    "    return np.array(X), np.array(Y)\n",
    "\n",
    "\n",
    "# class StockDataset(Dataset):\n",
    "#     def __init__(self, X, y, train=True, test_size=0.2):\n",
    "#         super(StockDataset, self).__init__()\n",
    "#         cutoff = int((1-test_size) * len(X))\n",
    "#         if train:\n",
    "#             self.features = X[:cutoff]\n",
    "#             self.targets = y[:cutoff]\n",
    "#         else:\n",
    "#             self.features = X[cutoff:]\n",
    "#             self.targets = y[cutoff:]\n",
    "\n",
    "#         self.features = self.features.astype(np.float32)\n",
    "#         self.targets = self.targets.astype(np.float32)\n",
    "\n",
    "#     def __len__(self):\n",
    "#         assert len(self.features) == len(self.targets)\n",
    "#         return len(self.features)\n",
    "\n",
    "#     def __getitem__(self, item):\n",
    "#         return self.features[item], self.targets[item]"
   ]
  },
  {
   "cell_type": "markdown",
   "id": "d76b3daa-82f5-407d-b802-410be76a1f4d",
   "metadata": {
    "tags": []
   },
   "source": [
    "## RNN model"
   ]
  },
  {
   "cell_type": "code",
   "execution_count": 7,
   "id": "d358042a-9942-4ee4-a266-cec7c1458870",
   "metadata": {},
   "outputs": [],
   "source": [
    "class RNN(nn.Module):\n",
    "    def __init__(self, i_size, h_size, n_layers, o_size, dropout=0.1, bidirectional=True):\n",
    "        super(RNN, self).__init__()\n",
    "        self.num_directions = bidirectional + 1\n",
    "        self.rnn = nn.LSTM(\n",
    "            input_size=i_size,\n",
    "            hidden_size=h_size,\n",
    "            num_layers=n_layers,\n",
    "            dropout=dropout,\n",
    "            batch_first=True,\n",
    "            bidirectional=bidirectional\n",
    "        )\n",
    "        self.out = nn.Linear(h_size, o_size)\n",
    "\n",
    "    def forward(self, x, h_state):\n",
    "        r_out, hidden_state = self.rnn(x, h_state)\n",
    "\n",
    "#         hidden_size = hidden_state[-1].size(-1)\n",
    "        r_out = r_out[:, -1, :]\n",
    "        outs = self.out(r_out)\n",
    "\n",
    "        return outs, hidden_state"
   ]
  },
  {
   "cell_type": "markdown",
   "id": "5cc7293a-d753-4d69-a672-bc7357017b20",
   "metadata": {},
   "source": [
    "## Training function"
   ]
  },
  {
   "cell_type": "code",
   "execution_count": 8,
   "id": "d7773e5a-3853-4d85-a8d7-36a59c26d4d0",
   "metadata": {},
   "outputs": [],
   "source": [
    "def train(X_train, y_train, model, device, optimizer, loss_fn, epoch):\n",
    "    model.train()\n",
    "    \n",
    "    X_train = torch.from_numpy(X_train).float().to(device)\n",
    "    y_train = torch.from_numpy(y_train).float().to(device)\n",
    "    optimizer.zero_grad()\n",
    "    output, _ = model(X_train, None)\n",
    "    loss = loss_fn(output.squeeze(), y_train)\n",
    "    loss.backward()\n",
    "    optimizer.step()\n",
    "    \n",
    "    if epoch % 10 == 0:\n",
    "        msg = \"Train Epoch: {}\\tloss={}\".format(\n",
    "            epoch, loss.item())\n",
    "        logging.info(msg)\n",
    "    \n",
    "    return loss.item()"
   ]
  },
  {
   "cell_type": "markdown",
   "id": "19b4884b-0124-4863-ad64-61db43733704",
   "metadata": {},
   "source": [
    "## Test function"
   ]
  },
  {
   "cell_type": "code",
   "execution_count": 9,
   "id": "dd19f607-13bf-45e1-8a7f-47a9f4636615",
   "metadata": {},
   "outputs": [],
   "source": [
    "def test(X_test, y_test, model, device, loss_fn, epoch):\n",
    "    model.eval()\n",
    "    with torch.no_grad():\n",
    "        X_test = torch.from_numpy(X_test).float().to(device)\n",
    "        y_test = torch.from_numpy(y_test).float().to(device)\n",
    "        output, _ = model(X_test, None)\n",
    "        test_loss = loss_fn(output.squeeze(), y_test)\n",
    "\n",
    "    if epoch % 10 == 0:\n",
    "        logging.info(\"{{metricName: loss, metricValue: {}}}\\n\".format(test_loss))\n",
    "    \n",
    "    return test_loss.item()"
   ]
  },
  {
   "cell_type": "markdown",
   "id": "0612d9b7-66d4-4cef-9455-c05474c1f334",
   "metadata": {
    "tags": []
   },
   "source": [
    "## Main function"
   ]
  },
  {
   "cell_type": "code",
   "execution_count": 10,
   "id": "da038f36-30f0-449e-aa98-71b335940fa6",
   "metadata": {},
   "outputs": [],
   "source": [
    "def main():\n",
    "    if dist.is_available():\n",
    "        BACKEND = dist.Backend.GLOO\n",
    "\n",
    "    # Use this format (%Y-%m-%dT%H:%M:%SZ) to record timestamp of the metrics.\n",
    "    # If log_path is empty print log to StdOut, otherwise print log to the file.\n",
    "    if LOG_PATH == \"\":\n",
    "        logging.basicConfig(\n",
    "            format=\"%(asctime)s %(levelname)-8s %(message)s\",\n",
    "            datefmt=\"%Y-%m-%dT%H:%M:%SZ\",\n",
    "            level=logging.DEBUG)\n",
    "    else:\n",
    "        logging.basicConfig(\n",
    "            format=\"%(asctime)s %(levelname)-8s %(message)s\",\n",
    "            datefmt=\"%Y-%m-%dT%H:%M:%SZ\",\n",
    "            level=logging.DEBUG,\n",
    "            filename=LOG_PATH)\n",
    "\n",
    "    use_cuda = not NO_CUDA and torch.cuda.is_available()\n",
    "    if use_cuda:\n",
    "        print(\"Using CUDA\")\n",
    "\n",
    "    torch.manual_seed(SEED)\n",
    "\n",
    "    device = torch.device(\"cuda\" if use_cuda else \"cpu\")\n",
    "\n",
    "    if should_distribute():\n",
    "        print(\"Using distributed PyTorch with {} backend\".format(BACKEND))\n",
    "        dist.init_process_group(backend=BACKEND)\n",
    "\n",
    "    kwargs = {\"num_workers\": 1, \"pin_memory\": True} if use_cuda else {}\n",
    "\n",
    "    X_train, X_test, y_train, y_test, target_scaler = get_data(name=COMPANY_NAME)\n",
    "    X_train, y_train = process_data(X_train, y_train, LAG)\n",
    "    X_test, y_test = process_data(X_test, y_test, LAG)\n",
    "\n",
    "    model = RNN(i_size=5,\n",
    "                h_size=64,\n",
    "                n_layers=3,\n",
    "                o_size=1,\n",
    "                bidirectional=False,\n",
    "                )\n",
    "    model.to(device)\n",
    "\n",
    "    if is_distributed():\n",
    "        Distributor = nn.parallel.DistributedDataParallel if use_cuda \\\n",
    "            else nn.parallel.DistributedDataParallelCPU\n",
    "        model = Distributor(model)\n",
    "\n",
    "    optimizer = optim.Adam(model.parameters(), lr=LR)\n",
    "    loss_fn = nn.MSELoss()\n",
    "\n",
    "    for epoch in range(1, EPOCHS + 1):\n",
    "        train(X_train, y_train, model, device, optimizer, loss_fn, epoch)\n",
    "        test(X_test, y_test, model, device, loss_fn, epoch)"
   ]
  },
  {
   "cell_type": "code",
   "execution_count": 11,
   "id": "52913fec-c189-4b9e-889b-79243d3f5c9a",
   "metadata": {
    "tags": []
   },
   "outputs": [],
   "source": [
    "# main()"
   ]
  },
  {
   "cell_type": "code",
   "execution_count": 12,
   "id": "d67811cc-5cec-4605-a72c-8a00db9ad92b",
   "metadata": {
    "tags": []
   },
   "outputs": [
    {
     "name": "stderr",
     "output_type": "stream",
     "text": [
      "2021-10-26T19:25:48Z INFO     Train Epoch: 10\tloss=0.1672079861164093\n",
      "2021-10-26T19:25:48Z INFO     {metricName: loss, metricValue: 0.9479496479034424}\n",
      "\n",
      "2021-10-26T19:25:53Z INFO     Train Epoch: 20\tloss=0.05088049918413162\n",
      "2021-10-26T19:25:53Z INFO     {metricName: loss, metricValue: 0.34427687525749207}\n",
      "\n",
      "2021-10-26T19:25:56Z INFO     Train Epoch: 30\tloss=0.04091815650463104\n",
      "2021-10-26T19:25:56Z INFO     {metricName: loss, metricValue: 0.32466813921928406}\n",
      "\n",
      "2021-10-26T19:25:58Z INFO     Train Epoch: 40\tloss=0.017282938584685326\n",
      "2021-10-26T19:25:59Z INFO     {metricName: loss, metricValue: 0.1162271723151207}\n",
      "\n",
      "2021-10-26T19:26:01Z INFO     Train Epoch: 50\tloss=0.005342695862054825\n",
      "2021-10-26T19:26:01Z INFO     {metricName: loss, metricValue: 0.03256390243768692}\n",
      "\n",
      "2021-10-26T19:26:04Z INFO     Train Epoch: 60\tloss=0.003914440516382456\n",
      "2021-10-26T19:26:04Z INFO     {metricName: loss, metricValue: 0.04226164147257805}\n",
      "\n",
      "2021-10-26T19:26:07Z INFO     Train Epoch: 70\tloss=0.0028205730486661196\n",
      "2021-10-26T19:26:07Z INFO     {metricName: loss, metricValue: 0.08460690081119537}\n",
      "\n",
      "2021-10-26T19:26:10Z INFO     Train Epoch: 80\tloss=0.002816688735038042\n",
      "2021-10-26T19:26:10Z INFO     {metricName: loss, metricValue: 0.1074025109410286}\n",
      "\n",
      "2021-10-26T19:26:13Z INFO     Train Epoch: 90\tloss=0.0025097965262830257\n",
      "2021-10-26T19:26:13Z INFO     {metricName: loss, metricValue: 0.09767767041921616}\n",
      "\n",
      "2021-10-26T19:26:16Z INFO     Train Epoch: 100\tloss=0.002471335930749774\n",
      "2021-10-26T19:26:16Z INFO     {metricName: loss, metricValue: 0.08702603727579117}\n",
      "\n",
      "2021-10-26T19:26:19Z INFO     Train Epoch: 110\tloss=0.0024640923365950584\n",
      "2021-10-26T19:26:19Z INFO     {metricName: loss, metricValue: 0.08229775726795197}\n",
      "\n",
      "2021-10-26T19:26:22Z INFO     Train Epoch: 120\tloss=0.0023258866276592016\n",
      "2021-10-26T19:26:22Z INFO     {metricName: loss, metricValue: 0.07746032625436783}\n",
      "\n",
      "2021-10-26T19:26:24Z INFO     Train Epoch: 130\tloss=0.0022905883379280567\n",
      "2021-10-26T19:26:25Z INFO     {metricName: loss, metricValue: 0.07270512729883194}\n",
      "\n",
      "2021-10-26T19:26:27Z INFO     Train Epoch: 140\tloss=0.0022103344090282917\n",
      "2021-10-26T19:26:27Z INFO     {metricName: loss, metricValue: 0.06839511543512344}\n",
      "\n",
      "2021-10-26T19:26:31Z INFO     Train Epoch: 150\tloss=0.002276005921885371\n",
      "2021-10-26T19:26:31Z INFO     {metricName: loss, metricValue: 0.06502431631088257}\n",
      "\n",
      "2021-10-26T19:26:34Z INFO     Train Epoch: 160\tloss=0.0020903330296278\n",
      "2021-10-26T19:26:34Z INFO     {metricName: loss, metricValue: 0.062048252671957016}\n",
      "\n",
      "2021-10-26T19:26:36Z INFO     Train Epoch: 170\tloss=0.0021151024848222733\n",
      "2021-10-26T19:26:36Z INFO     {metricName: loss, metricValue: 0.05843183398246765}\n",
      "\n",
      "2021-10-26T19:26:40Z INFO     Train Epoch: 180\tloss=0.0020553600043058395\n",
      "2021-10-26T19:26:40Z INFO     {metricName: loss, metricValue: 0.054088570177555084}\n",
      "\n",
      "2021-10-26T19:26:43Z INFO     Train Epoch: 190\tloss=0.0020534698851406574\n",
      "2021-10-26T19:26:43Z INFO     {metricName: loss, metricValue: 0.05032770335674286}\n",
      "\n",
      "2021-10-26T19:26:46Z INFO     Train Epoch: 200\tloss=0.002011960605159402\n",
      "2021-10-26T19:26:46Z INFO     {metricName: loss, metricValue: 0.04796069115400314}\n",
      "\n",
      "2021-10-26T19:26:49Z INFO     Train Epoch: 210\tloss=0.001978982472792268\n",
      "2021-10-26T19:26:49Z INFO     {metricName: loss, metricValue: 0.04496164992451668}\n",
      "\n",
      "2021-10-26T19:26:52Z INFO     Train Epoch: 220\tloss=0.0020128919277340174\n",
      "2021-10-26T19:26:52Z INFO     {metricName: loss, metricValue: 0.04304440692067146}\n",
      "\n",
      "2021-10-26T19:26:55Z INFO     Train Epoch: 230\tloss=0.0019778800196945667\n",
      "2021-10-26T19:26:55Z INFO     {metricName: loss, metricValue: 0.04020438343286514}\n",
      "\n",
      "2021-10-26T19:26:58Z INFO     Train Epoch: 240\tloss=0.001955669606104493\n",
      "2021-10-26T19:26:58Z INFO     {metricName: loss, metricValue: 0.03860701620578766}\n",
      "\n",
      "2021-10-26T19:27:01Z INFO     Train Epoch: 250\tloss=0.0019422408659011126\n",
      "2021-10-26T19:27:01Z INFO     {metricName: loss, metricValue: 0.03575091063976288}\n",
      "\n",
      "2021-10-26T19:27:04Z INFO     Train Epoch: 260\tloss=0.0019333091331645846\n",
      "2021-10-26T19:27:04Z INFO     {metricName: loss, metricValue: 0.03314640000462532}\n",
      "\n",
      "2021-10-26T19:27:07Z INFO     Train Epoch: 270\tloss=0.001943316194228828\n",
      "2021-10-26T19:27:07Z INFO     {metricName: loss, metricValue: 0.03135873004794121}\n",
      "\n",
      "2021-10-26T19:27:10Z INFO     Train Epoch: 280\tloss=0.0018621907802298665\n",
      "2021-10-26T19:27:10Z INFO     {metricName: loss, metricValue: 0.028819426894187927}\n",
      "\n",
      "2021-10-26T19:27:13Z INFO     Train Epoch: 290\tloss=0.0018384155118837953\n",
      "2021-10-26T19:27:13Z INFO     {metricName: loss, metricValue: 0.028309091925621033}\n",
      "\n",
      "2021-10-26T19:27:16Z INFO     Train Epoch: 300\tloss=0.0017752794083207846\n",
      "2021-10-26T19:27:16Z INFO     {metricName: loss, metricValue: 0.026596149429678917}\n",
      "\n"
     ]
    }
   ],
   "source": [
    "if dist.is_available():\n",
    "    BACKEND = dist.Backend.GLOO\n",
    "\n",
    "# Use this format (%Y-%m-%dT%H:%M:%SZ) to record timestamp of the metrics.\n",
    "# If log_path is empty print log to StdOut, otherwise print log to the file.\n",
    "if LOG_PATH == \"\":\n",
    "    logging.basicConfig(\n",
    "        format=\"%(asctime)s %(levelname)-8s %(message)s\",\n",
    "        datefmt=\"%Y-%m-%dT%H:%M:%SZ\",\n",
    "        level=logging.DEBUG)\n",
    "else:\n",
    "    logging.basicConfig(\n",
    "        format=\"%(asctime)s %(levelname)-8s %(message)s\",\n",
    "        datefmt=\"%Y-%m-%dT%H:%M:%SZ\",\n",
    "        level=logging.DEBUG,\n",
    "        filename=LOG_PATH)\n",
    "\n",
    "use_cuda = not NO_CUDA and torch.cuda.is_available()\n",
    "if use_cuda:\n",
    "    print(\"Using CUDA\")\n",
    "\n",
    "torch.manual_seed(SEED)\n",
    "\n",
    "device = torch.device(\"cuda\" if use_cuda else \"cpu\")\n",
    "\n",
    "if should_distribute():\n",
    "    print(\"Using distributed PyTorch with {} backend\".format(BACKEND))\n",
    "    dist.init_process_group(backend=BACKEND)\n",
    "\n",
    "kwargs = {\"num_workers\": 1, \"pin_memory\": True} if use_cuda else {}\n",
    "\n",
    "X_train, X_test, y_train, y_test, target_scaler = get_data(name=COMPANY_NAME)\n",
    "X_train, y_train = process_data(X_train, y_train, LAG)\n",
    "X_test, y_test = process_data(X_test, y_test, LAG)\n",
    "\n",
    "model = RNN(i_size=5,\n",
    "            h_size=64,\n",
    "            n_layers=3,\n",
    "            o_size=1,\n",
    "            bidirectional=False,\n",
    "            )\n",
    "model.to(device)\n",
    "\n",
    "if is_distributed():\n",
    "    Distributor = nn.parallel.DistributedDataParallel if use_cuda \\\n",
    "        else nn.parallel.DistributedDataParallelCPU\n",
    "    model = Distributor(model)\n",
    "\n",
    "optimizer = optim.Adam(model.parameters(), lr=LR)\n",
    "loss_fn = nn.MSELoss()\n",
    "\n",
    "for epoch in range(1, EPOCHS + 1):\n",
    "    train(X_train, y_train, model, device, optimizer, loss_fn, epoch)\n",
    "    test(X_test, y_test, model, device, loss_fn, epoch)"
   ]
  },
  {
   "cell_type": "code",
   "execution_count": 13,
   "id": "606cf9da-6dae-4e8d-8dc3-d1706fd3ceb1",
   "metadata": {},
   "outputs": [
    {
     "ename": "NameError",
     "evalue": "name 'features' is not defined",
     "output_type": "error",
     "traceback": [
      "\u001b[0;31m---------------------------------------------------------------------------\u001b[0m",
      "\u001b[0;31mNameError\u001b[0m                                 Traceback (most recent call last)",
      "\u001b[0;32m/var/folders/_z/rq45m8gs31sd_zmgzhxkyc_00000gn/T/ipykernel_61923/3339896256.py\u001b[0m in \u001b[0;36m<module>\u001b[0;34m\u001b[0m\n\u001b[0;32m----> 1\u001b[0;31m \u001b[0mfeatures\u001b[0m\u001b[0;34m.\u001b[0m\u001b[0mshape\u001b[0m\u001b[0;34m\u001b[0m\u001b[0;34m\u001b[0m\u001b[0m\n\u001b[0m",
      "\u001b[0;31mNameError\u001b[0m: name 'features' is not defined"
     ]
    }
   ],
   "source": [
    "features.shape"
   ]
  },
  {
   "cell_type": "code",
   "execution_count": null,
   "id": "38511866-e711-4cf5-8a70-4ec6db86d4e5",
   "metadata": {},
   "outputs": [],
   "source": [
    "targets.shape"
   ]
  },
  {
   "cell_type": "code",
   "execution_count": null,
   "id": "7d47af33-ca89-4866-af64-8262db09322b",
   "metadata": {},
   "outputs": [],
   "source": [
    "out.shape"
   ]
  },
  {
   "cell_type": "code",
   "execution_count": null,
   "id": "071ddd11-fed1-48d0-808a-bf72f98344ae",
   "metadata": {},
   "outputs": [],
   "source": [
    "X_test.shape"
   ]
  },
  {
   "cell_type": "code",
   "execution_count": 21,
   "id": "14d70060-6a73-4c75-94c6-fb346563c7be",
   "metadata": {},
   "outputs": [],
   "source": [
    "model.eval()\n",
    "X_test_t = torch.from_numpy(X_test).float().to(device)\n",
    "out, _ = model(X_test_t, None)\n",
    "out = out.detach().cpu().numpy()"
   ]
  },
  {
   "cell_type": "code",
   "execution_count": 15,
   "id": "2705e98c-d68e-4f71-8ccb-11ce34d1bf05",
   "metadata": {},
   "outputs": [
    {
     "data": {
      "text/plain": [
       "(237,)"
      ]
     },
     "execution_count": 15,
     "metadata": {},
     "output_type": "execute_result"
    }
   ],
   "source": [
    "y_test.shape"
   ]
  },
  {
   "cell_type": "code",
   "execution_count": 16,
   "id": "353c11eb-8281-4984-a108-3af214df83eb",
   "metadata": {},
   "outputs": [
    {
     "data": {
      "text/plain": [
       "(237, 1)"
      ]
     },
     "execution_count": 16,
     "metadata": {},
     "output_type": "execute_result"
    }
   ],
   "source": [
    "out.shape"
   ]
  },
  {
   "cell_type": "code",
   "execution_count": 22,
   "id": "ad9ca1bb-3cb6-4bbf-9fa5-8e7dadf79d24",
   "metadata": {
    "tags": []
   },
   "outputs": [
    {
     "data": {
      "text/plain": [
       "[<matplotlib.lines.Line2D at 0x7f8922cb9310>]"
      ]
     },
     "execution_count": 22,
     "metadata": {},
     "output_type": "execute_result"
    },
    {
     "data": {
      "image/png": "[encoded data removed]",
      "text/plain": [
       "<Figure size 1296x576 with 1 Axes>"
      ]
     },
     "metadata": {
      "needs_background": "light"
     },
     "output_type": "display_data"
    }
   ],
   "source": [
    "plt.figure(figsize=(18, 8))\n",
    "plt.plot(target_scaler.inverse_transform(y_test.reshape(-1, 1)))\n",
    "plt.plot(target_scaler.inverse_transform(out.reshape(-1, 1)))\n",
    "# plt.plot(targets)\n",
    "# plt.plot(out)\n",
    "# plt.ylim((0, 250))"
   ]
  },
  {
   "cell_type": "code",
   "execution_count": 20,
   "id": "e1c9bdc7-7953-4ca4-9737-1afd3a36c17f",
   "metadata": {},
   "outputs": [],
   "source": [
    "X_train, X_test, y_train, y_test, target_scaler = get_data(name='AMD')\n",
    "X_train, y_train = process_data(X_train, y_train, LAG)\n",
    "X_test, y_test = process_data(X_test, y_test, LAG)"
   ]
  },
  {
   "cell_type": "code",
   "execution_count": null,
   "id": "4f72305d-0dc2-47b1-b203-8a0e8aa517c1",
   "metadata": {},
   "outputs": [],
   "source": []
  },
  {
   "cell_type": "code",
   "execution_count": 19,
   "id": "1a70683b-f173-4b69-a2da-3977e4dca0fc",
   "metadata": {},
   "outputs": [
    {
     "ename": "NameError",
     "evalue": "name 'train_loss' is not defined",
     "output_type": "error",
     "traceback": [
      "\u001b[0;31m---------------------------------------------------------------------------\u001b[0m",
      "\u001b[0;31mNameError\u001b[0m                                 Traceback (most recent call last)",
      "\u001b[0;32m/var/folders/_z/rq45m8gs31sd_zmgzhxkyc_00000gn/T/ipykernel_61923/3285281156.py\u001b[0m in \u001b[0;36m<module>\u001b[0;34m\u001b[0m\n\u001b[0;32m----> 1\u001b[0;31m \u001b[0mplt\u001b[0m\u001b[0;34m.\u001b[0m\u001b[0mplot\u001b[0m\u001b[0;34m(\u001b[0m\u001b[0mtrain_loss\u001b[0m\u001b[0;34m)\u001b[0m\u001b[0;34m\u001b[0m\u001b[0;34m\u001b[0m\u001b[0m\n\u001b[0m\u001b[1;32m      2\u001b[0m \u001b[0mplt\u001b[0m\u001b[0;34m.\u001b[0m\u001b[0mplot\u001b[0m\u001b[0;34m(\u001b[0m\u001b[0mtest_loss\u001b[0m\u001b[0;34m)\u001b[0m\u001b[0;34m\u001b[0m\u001b[0;34m\u001b[0m\u001b[0m\n",
      "\u001b[0;31mNameError\u001b[0m: name 'train_loss' is not defined"
     ]
    }
   ],
   "source": [
    "\n",
    "plt.plot(train_loss)\n",
    "plt.plot(test_loss)\n"
   ]
  },
  {
   "cell_type": "code",
   "execution_count": null,
   "id": "46846d1d-be9c-4d70-8376-d105950c765d",
   "metadata": {},
   "outputs": [],
   "source": []
  }
 ],
 "metadata": {
  "kernelspec": {
   "display_name": "Python 3 (ipykernel)",
   "language": "python",
   "name": "python3"
  },
  "language_info": {
   "codemirror_mode": {
    "name": "ipython",
    "version": 3
   },
   "file_extension": ".py",
   "mimetype": "text/x-python",
   "name": "python",
   "nbconvert_exporter": "python",
   "pygments_lexer": "ipython3",
   "version": "3.8.2"
  }
 },
 "nbformat": 4,
 "nbformat_minor": 5
}
